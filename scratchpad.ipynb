{
 "cells": [
  {
   "cell_type": "code",
   "execution_count": 18,
   "metadata": {},
   "outputs": [],
   "source": [
    "from dataclasses import dataclass\n",
    "from pydantic import BaseModel\n",
    "from io import BytesIO\n",
    "\n",
    "import numpy as np\n",
    "from numpy.typing import NDArray\n",
    "\n",
    "from hdf5_serialiser import *"
   ]
  },
  {
   "cell_type": "code",
   "execution_count": 19,
   "metadata": {},
   "outputs": [
    {
     "ename": "AssertionError",
     "evalue": "Types of attributes p are not supported!",
     "output_type": "error",
     "traceback": [
      "\u001b[0;31m---------------------------------------------------------------------------\u001b[0m",
      "\u001b[0;31mAssertionError\u001b[0m                            Traceback (most recent call last)",
      "Cell \u001b[0;32mIn[19], line 24\u001b[0m\n\u001b[1;32m     18\u001b[0m     x: \u001b[39mint\u001b[39m \u001b[39m|\u001b[39m \u001b[39mNone\u001b[39;00m\n\u001b[1;32m     19\u001b[0m     y: \u001b[39mstr\u001b[39m\n\u001b[1;32m     22\u001b[0m \u001b[39m@serialisable\u001b[39;49m\n\u001b[1;32m     23\u001b[0m \u001b[39m@dataclass\u001b[39;49m\n\u001b[0;32m---> 24\u001b[0m \u001b[39mclass\u001b[39;49;00m \u001b[39mBig\u001b[39;49;00m:\n\u001b[1;32m     25\u001b[0m     a: \u001b[39mdict\u001b[39;49m[\u001b[39mstr\u001b[39;49m, \u001b[39mdict\u001b[39;49m[\u001b[39mstr\u001b[39;49m, \u001b[39mint\u001b[39;49m]]\n\u001b[1;32m     26\u001b[0m     s: Small\n",
      "File \u001b[0;32m~/hdf5-serialiser/hdf5_serialiser/__init__.py:191\u001b[0m, in \u001b[0;36mserialisable\u001b[0;34m(input_class)\u001b[0m\n\u001b[1;32m    189\u001b[0m \u001b[39mdef\u001b[39;00m \u001b[39mserialisable\u001b[39m(input_class):\n\u001b[1;32m    190\u001b[0m     serialisable_attrs \u001b[39m=\u001b[39m _fields(input_class)\n\u001b[0;32m--> 191\u001b[0m     unsupported_attrs \u001b[39m=\u001b[39m [\n\u001b[1;32m    192\u001b[0m         attr \u001b[39mfor\u001b[39;00m attr, T \u001b[39min\u001b[39;00m serialisable_attrs\u001b[39m.\u001b[39mitems() \u001b[39mif\u001b[39;00m \u001b[39mnot\u001b[39;00m _is_type_supported(T)\n\u001b[1;32m    193\u001b[0m     ]\n\u001b[1;32m    194\u001b[0m     \u001b[39massert\u001b[39;00m (\n\u001b[1;32m    195\u001b[0m         \u001b[39mnot\u001b[39;00m unsupported_attrs\n\u001b[1;32m    196\u001b[0m     ), \u001b[39mf\u001b[39m\u001b[39m\"\u001b[39m\u001b[39mTypes of attributes \u001b[39m\u001b[39m{\u001b[39;00m\u001b[39m'\u001b[39m\u001b[39m, \u001b[39m\u001b[39m'\u001b[39m\u001b[39m.\u001b[39mjoin(unsupported_attrs)\u001b[39m}\u001b[39;00m\u001b[39m are not supported!\u001b[39m\u001b[39m\"\u001b[39m\n\u001b[1;32m    198\u001b[0m     \u001b[39mclass\u001b[39;00m \u001b[39mNewCls\u001b[39;00m(input_class, AbstractSerialisable):\n",
      "\u001b[0;31mAssertionError\u001b[0m: Types of attributes p are not supported!"
     ]
    }
   ],
   "source": [
    "@dataclass\n",
    "class Base:\n",
    "    name: str\n",
    "\n",
    "\n",
    "@serialisable\n",
    "@dataclass\n",
    "class DataClass(Base):\n",
    "    data: NDArray[np.float_]\n",
    "\n",
    "\n",
    "class Pyd(BaseModel):\n",
    "    z: int\n",
    "\n",
    "@serialisable\n",
    "@dataclass\n",
    "class Small:\n",
    "    x: int | None\n",
    "    y: str\n",
    "\n",
    "\n",
    "@serialisable\n",
    "@dataclass\n",
    "class Big:\n",
    "    a: dict[str, dict[str, int]]\n",
    "    s: Small\n",
    "    d: DataClass\n",
    "    p: Pyd\n",
    "\n",
    "\n",
    "s = Small(x=None, y=\"three\")\n",
    "d = DataClass(data=np.random.rand(2, 3), name=\"D\")\n",
    "b = Big(a={\"k1\": {\"k11\": 123}, \"k2\": {\"k21\": 456}}, s=s, d=d, p=Pyd(z=123))\n",
    "\n",
    "buff = BytesIO()\n",
    "b.serialise(buff)\n",
    "buff.seek(0)\n",
    "#x: Big = Big.deserialise(buff)\n",
    "#x"
   ]
  },
  {
   "cell_type": "code",
   "execution_count": null,
   "metadata": {},
   "outputs": [],
   "source": []
  }
 ],
 "metadata": {
  "kernelspec": {
   "display_name": ".venv",
   "language": "python",
   "name": "python3"
  },
  "language_info": {
   "codemirror_mode": {
    "name": "ipython",
    "version": 3
   },
   "file_extension": ".py",
   "mimetype": "text/x-python",
   "name": "python",
   "nbconvert_exporter": "python",
   "pygments_lexer": "ipython3",
   "version": "3.10.6"
  },
  "orig_nbformat": 4,
  "vscode": {
   "interpreter": {
    "hash": "e3a6fb90582524264abb085839914f59ff9d7a007e3ad0c4243de901587bed88"
   }
  }
 },
 "nbformat": 4,
 "nbformat_minor": 2
}
