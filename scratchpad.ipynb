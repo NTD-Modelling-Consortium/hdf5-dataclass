{
 "cells": [
  {
   "cell_type": "code",
   "execution_count": 189,
   "metadata": {},
   "outputs": [],
   "source": [
    "import dataclasses\n",
    "from dataclasses import dataclass\n",
    "from typing import IO, Any\n",
    "from pathlib import Path\n",
    "import functools\n",
    "\n",
    "import numpy as np\n",
    "from numpy.typing import NDArray\n",
    "\n",
    "import h5py"
   ]
  },
  {
   "cell_type": "code",
   "execution_count": 243,
   "metadata": {},
   "outputs": [],
   "source": [
    "FileType = str | Path | IO[bytes]\n",
    "\n",
    "\n",
    "def _is_primitive(obj_or_class: Any):\n",
    "    primitives = (int, float, str)\n",
    "    if type(obj_or_class) == type:\n",
    "        return  obj_or_class in primitives\n",
    "    else:\n",
    "        return isinstance(obj_or_class, primitives)\n",
    "\n",
    "\n",
    "def _fields(T: Any) -> dict[str, type]:\n",
    "    # TODO: two separate implementations - one for dataclass, one for pydantic model\n",
    "    ret: dict[str, type] = {}\n",
    "    for field in dataclasses.fields(T):\n",
    "        ret[field.name] = field.type\n",
    "    return ret\n",
    "\n",
    "\n",
    "def serialisable(cls):\n",
    "    serialisable_attrs = _fields(cls)\n",
    "\n",
    "    def serialise(self, output: FileType | h5py.File | h5py.Group, mode: str = \"w\"):\n",
    "        # TODO: replace mode with ADD/REPLACE/NEW?\n",
    "        h5 = (\n",
    "            output\n",
    "            if isinstance(output, (h5py.File, h5py.Group))\n",
    "            else h5py.File(output, mode)\n",
    "        )\n",
    "\n",
    "        for attr, _ in serialisable_attrs.items():\n",
    "            val = getattr(self, attr)\n",
    "            if val is None:\n",
    "                continue\n",
    "\n",
    "            if _is_primitive(val):\n",
    "                h5.attrs[attr] = val\n",
    "            # TODO: elif dict/list -- json? check size?\n",
    "            elif isinstance(val, np.ndarray):\n",
    "                h5.create_dataset(attr, data=val)\n",
    "            elif getattr(val, \"__is_serialisable\", False):\n",
    "                grp = h5.create_group(attr)\n",
    "                val.serialise(output=grp)\n",
    "            else:\n",
    "                raise Exception(f\"Unsupported type of attribute {attr}\")\n",
    "\n",
    "    @staticmethod\n",
    "    def deserialise(input: FileType | h5py.File | h5py.Group) -> cls:\n",
    "        h5 = (\n",
    "            input\n",
    "            if isinstance(input, (h5py.File, h5py.Group))\n",
    "            else h5py.File(input, \"r\")\n",
    "        )\n",
    "\n",
    "        attrs = {}\n",
    "        for attr, T in serialisable_attrs.items():\n",
    "            val = None\n",
    "            if _is_primitive(T):\n",
    "                val = h5.attrs.get(attr)\n",
    "            else:\n",
    "                serialised = h5[attr]\n",
    "                if isinstance(serialised, h5py.Dataset):\n",
    "                    val = np.array(serialised)\n",
    "                elif isinstance(serialised, h5py.Group):\n",
    "                    val = T.deserialise(serialised)\n",
    "                else:\n",
    "                    raise Exception(\"Unknown type of data in hdf5\")\n",
    "            attrs[attr] = val\n",
    "        return cls(**attrs)\n",
    "\n",
    "    cls.serialise = serialise\n",
    "    cls.deserialise = deserialise\n",
    "    cls.__is_serialisable = True\n",
    "    return cls"
   ]
  },
  {
   "cell_type": "code",
   "execution_count": 246,
   "metadata": {},
   "outputs": [],
   "source": [
    "@dataclass\n",
    "class Base:\n",
    "    name: str\n",
    "\n",
    "@serialisable\n",
    "@dataclass\n",
    "class DataClass(Base):\n",
    "    data: NDArray[np.float_]\n",
    "\n",
    "\n",
    "@serialisable\n",
    "@dataclass\n",
    "class Small:\n",
    "    x: int\n",
    "    y: str\n",
    "\n",
    "\n",
    "@serialisable\n",
    "@dataclass\n",
    "class Big:\n",
    "    a: int\n",
    "    s: Small\n",
    "    d: DataClass"
   ]
  },
  {
   "cell_type": "code",
   "execution_count": 245,
   "metadata": {},
   "outputs": [
    {
     "ename": "Exception",
     "evalue": "Unsupported type of attribute s",
     "output_type": "error",
     "traceback": [
      "\u001b[0;31m---------------------------------------------------------------------------\u001b[0m",
      "\u001b[0;31mException\u001b[0m                                 Traceback (most recent call last)",
      "Cell \u001b[0;32mIn[245], line 4\u001b[0m\n\u001b[1;32m      2\u001b[0m d \u001b[39m=\u001b[39m DataClass(data\u001b[39m=\u001b[39mnp\u001b[39m.\u001b[39mrandom\u001b[39m.\u001b[39mrand(\u001b[39m2\u001b[39m,\u001b[39m3\u001b[39m), name\u001b[39m=\u001b[39m\u001b[39m\"\u001b[39m\u001b[39mD\u001b[39m\u001b[39m\"\u001b[39m)\n\u001b[1;32m      3\u001b[0m b \u001b[39m=\u001b[39m Big(a\u001b[39m=\u001b[39m\u001b[39m10\u001b[39m, s\u001b[39m=\u001b[39ms, d\u001b[39m=\u001b[39md)\n\u001b[0;32m----> 4\u001b[0m b\u001b[39m.\u001b[39;49mserialise(\u001b[39m\"\u001b[39;49m\u001b[39m/tmp/output.hdf5\u001b[39;49m\u001b[39m\"\u001b[39;49m)\n",
      "Cell \u001b[0;32mIn[243], line 45\u001b[0m, in \u001b[0;36mserialisable.<locals>.serialise\u001b[0;34m(self, output, mode)\u001b[0m\n\u001b[1;32m     43\u001b[0m     val\u001b[39m.\u001b[39mserialise(output\u001b[39m=\u001b[39mgrp)\n\u001b[1;32m     44\u001b[0m \u001b[39melse\u001b[39;00m:\n\u001b[0;32m---> 45\u001b[0m     \u001b[39mraise\u001b[39;00m \u001b[39mException\u001b[39;00m(\u001b[39mf\u001b[39m\u001b[39m\"\u001b[39m\u001b[39mUnsupported type of attribute \u001b[39m\u001b[39m{\u001b[39;00mattr\u001b[39m}\u001b[39;00m\u001b[39m\"\u001b[39m)\n",
      "\u001b[0;31mException\u001b[0m: Unsupported type of attribute s"
     ]
    }
   ],
   "source": [
    "\n",
    "s = Small(None, \"three\")\n",
    "d = DataClass(data=np.random.rand(2,3), name=\"D\")\n",
    "b = Big(a=10, s=s, d=d)\n",
    "b.serialise(\"/tmp/output.hdf5\")"
   ]
  },
  {
   "cell_type": "code",
   "execution_count": 242,
   "metadata": {},
   "outputs": [
    {
     "data": {
      "text/plain": [
       "True"
      ]
     },
     "execution_count": 242,
     "metadata": {},
     "output_type": "execute_result"
    }
   ],
   "source": [
    "x = Big.deserialise(\"/tmp/output.hdf5\")\n",
    "x.s.x is None"
   ]
  },
  {
   "cell_type": "code",
   "execution_count": 238,
   "metadata": {},
   "outputs": [
    {
     "data": {
      "text/plain": [
       "type"
      ]
     },
     "execution_count": 238,
     "metadata": {},
     "output_type": "execute_result"
    }
   ],
   "source": [
    "type(int)"
   ]
  },
  {
   "cell_type": "code",
   "execution_count": null,
   "metadata": {},
   "outputs": [],
   "source": []
  }
 ],
 "metadata": {
  "kernelspec": {
   "display_name": ".venv",
   "language": "python",
   "name": "python3"
  },
  "language_info": {
   "codemirror_mode": {
    "name": "ipython",
    "version": 3
   },
   "file_extension": ".py",
   "mimetype": "text/x-python",
   "name": "python",
   "nbconvert_exporter": "python",
   "pygments_lexer": "ipython3",
   "version": "3.10.6 (main, Nov 14 2022, 16:10:14) [GCC 11.3.0]"
  },
  "orig_nbformat": 4,
  "vscode": {
   "interpreter": {
    "hash": "e3a6fb90582524264abb085839914f59ff9d7a007e3ad0c4243de901587bed88"
   }
  }
 },
 "nbformat": 4,
 "nbformat_minor": 2
}
