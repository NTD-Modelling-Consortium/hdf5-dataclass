{
 "cells": [
  {
   "cell_type": "code",
   "execution_count": 1,
   "metadata": {},
   "outputs": [],
   "source": [
    "from dataclasses import dataclass\n",
    "from io import BytesIO\n",
    "\n",
    "import numpy as np\n",
    "from numpy.typing import NDArray\n",
    "\n",
    "from hdf5_serialiser import *"
   ]
  },
  {
   "cell_type": "code",
   "execution_count": 3,
   "metadata": {},
   "outputs": [
    {
     "data": {
      "text/plain": [
       "serialisable.<locals>.NewCls(a={'k1': {'k11': 123}, 'k2': {'k21': 456}}, s=serialisable.<locals>.NewCls(x=None, y='three'), d=serialisable.<locals>.NewCls(name='D', data=array([[0.4106421 , 0.30339523, 0.49463724],\n",
       "       [0.61516899, 0.99343663, 0.71815992]])))"
      ]
     },
     "execution_count": 3,
     "metadata": {},
     "output_type": "execute_result"
    }
   ],
   "source": [
    "@dataclass\n",
    "class Base:\n",
    "    name: str\n",
    "\n",
    "\n",
    "@serialisable\n",
    "@dataclass\n",
    "class DataClass(Base):\n",
    "    data: NDArray[np.float_]\n",
    "\n",
    "\n",
    "@serialisable\n",
    "@dataclass\n",
    "class Small:\n",
    "    x: int | None\n",
    "    y: str\n",
    "\n",
    "\n",
    "@serialisable\n",
    "@dataclass\n",
    "class Big:\n",
    "    a: dict[str, dict[str, int]]\n",
    "    s: Small\n",
    "    d: DataClass\n",
    "\n",
    "\n",
    "s = Small(x=None, y=\"three\")\n",
    "d = DataClass(data=np.random.rand(2, 3), name=\"D\")\n",
    "b = Big(a={\"k1\": {\"k11\": 123}, \"k2\": {\"k21\": 456}}, s=s, d=d)\n",
    "\n",
    "buff = BytesIO()\n",
    "b.serialise(buff)\n",
    "buff.seek(0)\n",
    "x: Big = Big.deserialise(buff)\n",
    "x"
   ]
  },
  {
   "cell_type": "code",
   "execution_count": null,
   "metadata": {},
   "outputs": [],
   "source": []
  }
 ],
 "metadata": {
  "kernelspec": {
   "display_name": ".venv",
   "language": "python",
   "name": "python3"
  },
  "language_info": {
   "codemirror_mode": {
    "name": "ipython",
    "version": 3
   },
   "file_extension": ".py",
   "mimetype": "text/x-python",
   "name": "python",
   "nbconvert_exporter": "python",
   "pygments_lexer": "ipython3",
   "version": "3.10.6"
  },
  "orig_nbformat": 4,
  "vscode": {
   "interpreter": {
    "hash": "e3a6fb90582524264abb085839914f59ff9d7a007e3ad0c4243de901587bed88"
   }
  }
 },
 "nbformat": 4,
 "nbformat_minor": 2
}
